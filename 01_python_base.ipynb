{
 "cells": [
  {
   "cell_type": "markdown",
   "metadata": {},
   "source": [
    "# 变量的命名规则\n",
    "类名：驼峰命名\n",
    "\n",
    "方法、函数、变量名：下划线命名"
   ]
  },
  {
   "cell_type": "code",
   "execution_count": 3,
   "metadata": {},
   "outputs": [
    {
     "name": "stdout",
     "output_type": "stream",
     "text": [
      "dog\n"
     ]
    }
   ],
   "source": [
    "class AnimalDog:\n",
    "    def __init__(self):\n",
    "        pass\n",
    "\n",
    "\n",
    "def main_test():\n",
    "    pass"
   ]
  },
  {
   "cell_type": "markdown",
   "metadata": {},
   "source": [
    "# 数据类型"
   ]
  },
  {
   "cell_type": "code",
   "execution_count": null,
   "metadata": {},
   "outputs": [],
   "source": [
    "int         # 整型  int64\n",
    "float       # 浮点  float64\n",
    "bool        # 布尔\n",
    "str         # 字符串\n",
    "dict        # 字典\n",
    "set         # 集合\n",
    "tuple       # 元组\n",
    "list        # 列表"
   ]
  },
  {
   "cell_type": "markdown",
   "metadata": {},
   "source": [
    "# 布尔类型"
   ]
  },
  {
   "cell_type": "code",
   "execution_count": 15,
   "metadata": {},
   "outputs": [
    {
     "name": "stdout",
     "output_type": "stream",
     "text": [
      "ok\n"
     ]
    }
   ],
   "source": [
    "# bool_type = False 0 [] {} None \"\" '' \"\"\"\"\"\"\n",
    "\n",
    "if [1]:\n",
    "    print(\"ok\")\n",
    "else:\n",
    "    print(\"now is false\")\n"
   ]
  },
  {
   "cell_type": "markdown",
   "metadata": {},
   "source": [
    "# 字符串"
   ]
  },
  {
   "cell_type": "code",
   "execution_count": 17,
   "metadata": {},
   "outputs": [
    {
     "name": "stdout",
     "output_type": "stream",
     "text": [
      "ok\n"
     ]
    }
   ],
   "source": [
    "\"What a nice day!\".upper()      # 全大写\n",
    "\"What a nice day!\".lower()      # 全小写\n",
    "\"What a nice day!\".title()      # 首字母大写\n",
    "\n",
    "name = \"AliCe\"\n",
    "if name.lower() == \"alice\":\n",
    "    print(\"ok\")\n"
   ]
  },
  {
   "cell_type": "markdown",
   "metadata": {},
   "source": [
    "# f字符串、r字符串"
   ]
  },
  {
   "cell_type": "code",
   "execution_count": 28,
   "metadata": {},
   "outputs": [
    {
     "name": "stdout",
     "output_type": "stream",
     "text": [
      "3.1416\n",
      "Now is ---3.14159261111----\n",
      "1\n",
      "2\n",
      "1\\n2\n"
     ]
    },
    {
     "data": {
      "text/plain": [
       "'\\u3000'"
      ]
     },
     "execution_count": 28,
     "metadata": {},
     "output_type": "execute_result"
    }
   ],
   "source": [
    "temperature = 3.14159261111\n",
    "print(f\"{temperature:.4f}\")\n",
    "print(f\"Now is {temperature:-^20}\")     # f字符串可以直接将变量引入字符串   星号代表用星号做格式化字符串填充，^代表居中，20代表显示长度为20个字符\n",
    "print(\"1\\n2\")\n",
    "print(r\"1\\n2\")                          # r字符串可以自动将需要转义的字符转义\n",
    "\n",
    "u\"\\u3000\""
   ]
  },
  {
   "cell_type": "markdown",
   "metadata": {},
   "source": [
    "# 字符串的常用方法"
   ]
  },
  {
   "cell_type": "code",
   "execution_count": 27,
   "metadata": {},
   "outputs": [
    {
     "data": {
      "text/plain": [
       "'name'"
      ]
     },
     "execution_count": 27,
     "metadata": {},
     "output_type": "execute_result"
    }
   ],
   "source": [
    "ss = \"   name  \\n\"\n",
    "ss.strip()     # 移除空白符，空白符包括 空格、\\n、\\t、\\r等"
   ]
  },
  {
   "cell_type": "code",
   "execution_count": 38,
   "metadata": {},
   "outputs": [
    {
     "name": "stdout",
     "output_type": "stream",
     "text": [
      "abc\n",
      "1234\n",
      "abc12341234\n"
     ]
    }
   ],
   "source": [
    "s1 = \"abc\" \n",
    "s2 = str(1234)\n",
    "\n",
    "# 由于字符串是不可变对象，一旦进入内存就不可修改，你看到的每一个s3都占一块内存\n",
    "s3 = s1 + s2 + s2           # 字符串连接 不推荐，会消耗不必要的内存\n",
    "s3 = s3 + s2\n",
    "s3\n",
    "\n",
    "print(\"\\n\".join([s1, s2, s3]))  # 字符串对象自带join方法，可以对列表中的内容进行连接"
   ]
  },
  {
   "cell_type": "markdown",
   "metadata": {},
   "source": [
    "# 数"
   ]
  },
  {
   "cell_type": "code",
   "execution_count": 42,
   "metadata": {},
   "outputs": [
    {
     "name": "stdout",
     "output_type": "stream",
     "text": [
      "9\n"
     ]
    }
   ],
   "source": [
    "s = 3 ** 2      # 乘方\n",
    "print(s)    \n",
    "\n",
    "import math\n",
    "math.sqrt(s)        # math包中的开方操作\n",
    "math.pow(3, 2)      # math包中的乘方操作"
   ]
  },
  {
   "cell_type": "code",
   "execution_count": 46,
   "metadata": {},
   "outputs": [
    {
     "name": "stdout",
     "output_type": "stream",
     "text": [
      "0.30000000000000004\n",
      "1.2\n"
     ]
    }
   ],
   "source": [
    "print(0.2 + 0.1)    # 精度问题，并不是计算错误，二进制有一个对十进制的最小表示精度，到达这个精度之后，再小的数，二进制就表示不了了，所以有误差\n",
    "print(0.2 + 1)      # float + int = float"
   ]
  },
  {
   "cell_type": "code",
   "execution_count": null,
   "metadata": {},
   "outputs": [],
   "source": [
    "x, y = 1, 2     # python可以将两个数直接赋值给两个变量\n",
    "COUNT = 0.2     # 常量"
   ]
  },
  {
   "cell_type": "markdown",
   "metadata": {},
   "source": [
    "# 列表"
   ]
  },
  {
   "cell_type": "code",
   "execution_count": 8,
   "metadata": {},
   "outputs": [
    {
     "data": {
      "text/plain": [
       "[1, 2, 'a', {'a': 'abc'}, 123]"
      ]
     },
     "execution_count": 8,
     "metadata": {},
     "output_type": "execute_result"
    }
   ],
   "source": [
    "a_list = [1, 2, \"a\", {\"a\": 'abc'}]      # python列表中可以存放任意类型的元素\n",
    "a_list.append(123)                  # 追加再list尾部\n",
    "a_list"
   ]
  },
  {
   "cell_type": "code",
   "execution_count": 9,
   "metadata": {},
   "outputs": [
    {
     "data": {
      "text/plain": [
       "[1, 2, 'a', {'a': 'abc'}, 123, 'a', 'b', 'c']"
      ]
     },
     "execution_count": 9,
     "metadata": {},
     "output_type": "execute_result"
    }
   ],
   "source": [
    "a_list.extend([\"a\", \"b\", \"c\"])      # 扩展，解包extend内部的对象\n",
    "a_list"
   ]
  },
  {
   "cell_type": "code",
   "execution_count": 10,
   "metadata": {},
   "outputs": [
    {
     "data": {
      "text/plain": [
       "[1, 2, 'a', {'a': 'abc'}, 123, 'a', 'b', 'c', ['a', 'b', 'c']]"
      ]
     },
     "execution_count": 10,
     "metadata": {},
     "output_type": "execute_result"
    }
   ],
   "source": [
    "a_list.append([\"a\", \"b\", \"c\"])      # 追加一个列表，不解包\n",
    "a_list"
   ]
  },
  {
   "cell_type": "code",
   "execution_count": 54,
   "metadata": {},
   "outputs": [
    {
     "data": {
      "text/plain": [
       "[1, 'now', 2, 'a', {'a': 'abc'}, 123, 'a', 'b', 'c', ['a', 'b', 'c']]"
      ]
     },
     "execution_count": 54,
     "metadata": {},
     "output_type": "execute_result"
    }
   ],
   "source": [
    "a_list.insert(1, \"now\")             # 在指定index位置插入一个元素\n",
    "a_list"
   ]
  },
  {
   "cell_type": "code",
   "execution_count": 55,
   "metadata": {},
   "outputs": [
    {
     "data": {
      "text/plain": [
       "[1, 2, 'a', {'a': 'abc'}, 123, 'a', 'b', 'c', ['a', 'b', 'c']]"
      ]
     },
     "execution_count": 55,
     "metadata": {},
     "output_type": "execute_result"
    }
   ],
   "source": [
    "del a_list[1]                   # 删除一个指定位置上的元素\n",
    "a_list"
   ]
  },
  {
   "cell_type": "code",
   "execution_count": 56,
   "metadata": {},
   "outputs": [
    {
     "name": "stdout",
     "output_type": "stream",
     "text": [
      "[1, 2, 'a', {'a': 'abc'}, 123, 'a', 'b', 'c']\n",
      "['a', 'b', 'c']\n"
     ]
    }
   ],
   "source": [
    "end_item = a_list.pop()     # 弹出一个元素\n",
    "print(a_list)\n",
    "print(end_item)"
   ]
  },
  {
   "cell_type": "code",
   "execution_count": 57,
   "metadata": {},
   "outputs": [
    {
     "name": "stdout",
     "output_type": "stream",
     "text": [
      "{'a': 'abc'}\n",
      "[1, 2, 'a', 123, 'a', 'b', 'c']\n"
     ]
    }
   ],
   "source": [
    "end_item = a_list.pop(3)        # 弹出index位置为3的元素\n",
    "print(end_item)\n",
    "print(a_list)"
   ]
  },
  {
   "cell_type": "code",
   "execution_count": 58,
   "metadata": {},
   "outputs": [
    {
     "data": {
      "text/plain": [
       "[1, 2, 123, 'a', 'b', 'c']"
      ]
     },
     "execution_count": 58,
     "metadata": {},
     "output_type": "execute_result"
    }
   ],
   "source": [
    "a_list.remove(\"a\")          # 根据元素的内容移除一个元素\n",
    "a_list"
   ]
  },
  {
   "cell_type": "code",
   "execution_count": 61,
   "metadata": {},
   "outputs": [
    {
     "name": "stdout",
     "output_type": "stream",
     "text": [
      "[1, 2, 4, 4, 5, 6]\n",
      "[4, 5, 2, 1, 6, 4]\n"
     ]
    }
   ],
   "source": [
    "b_list = [4, 5, 2, 1, 6, 4]\n",
    "b_list.sort()                   # 原地操作\n",
    "c_list = sorted(b_list)         # 对一个列表进行视图排序\n",
    "print(c_list)\n",
    "print(b_list)"
   ]
  },
  {
   "cell_type": "code",
   "execution_count": 62,
   "metadata": {},
   "outputs": [
    {
     "data": {
      "text/plain": [
       "[4, 6, 1, 2, 5, 4]"
      ]
     },
     "execution_count": 62,
     "metadata": {},
     "output_type": "execute_result"
    }
   ],
   "source": [
    "b_list.reverse()        # 对一个列表进行原地反向\n",
    "b_list"
   ]
  },
  {
   "cell_type": "code",
   "execution_count": 64,
   "metadata": {},
   "outputs": [
    {
     "data": {
      "text/plain": [
       "[6, 1]"
      ]
     },
     "execution_count": 64,
     "metadata": {},
     "output_type": "execute_result"
    }
   ],
   "source": [
    "b_list[1:3]     # 列表切片，切片并没有改变列表本身，只是提供一个可以看的试图  start: end是前闭后开，能取到start 不能到end"
   ]
  },
  {
   "cell_type": "code",
   "execution_count": 70,
   "metadata": {},
   "outputs": [
    {
     "name": "stdout",
     "output_type": "stream",
     "text": [
      "[4, 5, 2, 1, 6, 4]\n"
     ]
    },
    {
     "data": {
      "text/plain": [
       "[4, 6, 1, 2, 5, 4]"
      ]
     },
     "execution_count": 70,
     "metadata": {},
     "output_type": "execute_result"
    }
   ],
   "source": [
    "print(b_list[::-1])     # 列表切片反向\n",
    "b_list"
   ]
  },
  {
   "cell_type": "code",
   "execution_count": 71,
   "metadata": {},
   "outputs": [
    {
     "name": "stdout",
     "output_type": "stream",
     "text": [
      "4\n",
      "6\n",
      "1\n",
      "2\n",
      "5\n",
      "4\n"
     ]
    }
   ],
   "source": [
    "for item in b_list:     # for循环遍历列表\n",
    "    print(item)"
   ]
  },
  {
   "cell_type": "code",
   "execution_count": 77,
   "metadata": {},
   "outputs": [
    {
     "name": "stdout",
     "output_type": "stream",
     "text": [
      "0\n",
      "1\n",
      "2\n",
      "3\n",
      "4\n",
      "6\n",
      "7\n",
      "8\n",
      "9\n",
      "over!\n"
     ]
    }
   ],
   "source": [
    "for i in range(10):\n",
    "    if i == 5:\n",
    "        continue            # continue可以忽略下面的代码，继续循环\n",
    "    print(i)\n",
    "    # if i == 2:\n",
    "    #     break             # break可以跳出循环\n",
    "else:                       # 当for循环正常执行结束时，执行else语句，否则不执行，比如for循环内部报错，或遇到break\n",
    "    print(\"over!\")"
   ]
  },
  {
   "cell_type": "code",
   "execution_count": 78,
   "metadata": {},
   "outputs": [
    {
     "data": {
      "text/plain": [
       "[0, 1, 2, 3, 4, 5]"
      ]
     },
     "execution_count": 78,
     "metadata": {},
     "output_type": "execute_result"
    }
   ],
   "source": [
    "[0, 1, 2, 3, 4, 5]      # 如果我们要构造这样一个列表\n",
    "\n",
    "d_list = []\n",
    "for i in range(6):\n",
    "    d_list.append(i)        # for循环追加的方法构造，可行，但是需要两行代码\n",
    "d_list\n"
   ]
  },
  {
   "cell_type": "code",
   "execution_count": 81,
   "metadata": {},
   "outputs": [
    {
     "data": {
      "text/plain": [
       "[0, 1, 2, 3, 4, 5]"
      ]
     },
     "execution_count": 81,
     "metadata": {},
     "output_type": "execute_result"
    }
   ],
   "source": [
    "e_list = [i for i in range(6)]      # 推荐使用列表推导式，速度更快，更节省内存\n",
    "e_list"
   ]
  },
  {
   "cell_type": "markdown",
   "metadata": {},
   "source": [
    "# 元组 tuple"
   ]
  },
  {
   "cell_type": "code",
   "execution_count": 30,
   "metadata": {},
   "outputs": [
    {
     "name": "stdout",
     "output_type": "stream",
     "text": [
      "('a', 1, True)\n",
      "a\n"
     ]
    }
   ],
   "source": [
    "test_list = []\n",
    "test_tuple = (\"a\", 1, True)\n",
    "print(test_tuple)\n",
    "print(test_tuple[0])"
   ]
  },
  {
   "cell_type": "code",
   "execution_count": 33,
   "metadata": {},
   "outputs": [
    {
     "name": "stdout",
     "output_type": "stream",
     "text": [
      "0\n",
      "1\n",
      "2\n",
      "3\n",
      "4\n",
      "5\n",
      "6\n",
      "7\n",
      "8\n",
      "9\n"
     ]
    }
   ],
   "source": [
    "s = (i for i in range(10))      # 生成器表达式\n",
    "for item in s:\n",
    "    print(item)"
   ]
  },
  {
   "cell_type": "markdown",
   "metadata": {},
   "source": [
    "# if语句"
   ]
  },
  {
   "cell_type": "code",
   "execution_count": 37,
   "metadata": {},
   "outputs": [],
   "source": [
    "name = \"alice\"\n",
    "if name == \"alice\":\n",
    "    pass\n",
    "elif name == \"jack\":\n",
    "    pass\n",
    "else:\n",
    "    pass"
   ]
  },
  {
   "cell_type": "code",
   "execution_count": 44,
   "metadata": {},
   "outputs": [],
   "source": [
    "# 判断条件运算符\n",
    "# == != > < >= <=\n",
    "# and or \n",
    "# is\n",
    "# in\n",
    "char = \"a\"\n",
    "\n",
    "if char in [\"alice\", \"jack\"]:\n",
    "    print(\"ok\")\n"
   ]
  },
  {
   "cell_type": "markdown",
   "metadata": {},
   "source": [
    "# match case"
   ]
  },
  {
   "cell_type": "code",
   "execution_count": null,
   "metadata": {},
   "outputs": [],
   "source": [
    "# python 3.10\n",
    "match name:\n",
    "    case \"a\":\n",
    "        pass\n",
    "    case \"b\":\n",
    "        pass\n",
    "    case _:\n",
    "        pass\n"
   ]
  },
  {
   "cell_type": "markdown",
   "metadata": {},
   "source": [
    "# 字典"
   ]
  },
  {
   "cell_type": "code",
   "execution_count": 59,
   "metadata": {},
   "outputs": [
    {
     "name": "stdout",
     "output_type": "stream",
     "text": [
      "{'1': 'abc', 'key1': 'value1', 'key2': 'value2', 'key3': 'value3'}\n",
      "{'1': 'abc', 'key1': 'value1', 'key2': 'value2', 'key3': 'efg'}\n",
      "{'1': 'abc', 'key1': 'value1', 'key2': 'value2'}\n",
      "\n",
      "1\n",
      "key1\n",
      "key2\n",
      "\n",
      "\n",
      "abc\n",
      "value1\n",
      "value2\n",
      "\n",
      "\n",
      "key is:1, value is: abc\n",
      "key is:key1, value is: value1\n",
      "key is:key2, value is: value2\n",
      "********************\n",
      "1\n",
      "********************\n",
      "key1\n",
      "********************\n",
      "key2\n",
      "10\n"
     ]
    }
   ],
   "source": [
    "test_dict = {\"1\": \"abc\", \"key1\": \"value1\", \"key2\": \"value2\"}\n",
    "\n",
    "# 检索字典 增加键值对\n",
    "test_dict[\"key3\"] = \"value3\"\n",
    "print(test_dict)\n",
    "\n",
    "# 修改值\n",
    "test_dict[\"key3\"] = \"efg\"\n",
    "print(test_dict)\n",
    "\n",
    "# 删除一个键值对\n",
    "del test_dict[\"key3\"]\n",
    "print(test_dict)\n",
    "\n",
    "# 检索\n",
    "key2 = test_dict.get(\"key3\", \"\")\n",
    "print(key2)\n",
    "\n",
    "# 遍历字典\n",
    "for key in test_dict.keys():\n",
    "    print(key)\n",
    "print(\"\\n\")\n",
    "for value in test_dict.values():\n",
    "    print(value)\n",
    "print(\"\\n\")\n",
    "for k, v in test_dict.items():\n",
    "    print(f\"key is:{k}, value is: {v}\")\n",
    "\n",
    "for item in test_dict:\n",
    "    print(\"*\"*20)\n",
    "    print(item)\n",
    "    \n",
    "test_dict1 = {\"a\": [1, 2, 3], \"b\": {\"a\": [10, 2, 3]}}\n",
    "print(test_dict1[\"b\"][\"a\"][0])\n"
   ]
  },
  {
   "cell_type": "markdown",
   "metadata": {},
   "source": [
    "# 集合"
   ]
  },
  {
   "cell_type": "code",
   "execution_count": 65,
   "metadata": {},
   "outputs": [
    {
     "name": "stdout",
     "output_type": "stream",
     "text": [
      "{'b', 'a'}\n",
      "{'b', 'c', 'a'}\n",
      "[1, 2, 3, 4]\n"
     ]
    }
   ],
   "source": [
    "test_set = {\"a\", \"b\", \"a\"}      # 唯一性、无序性\n",
    "print(test_set)\n",
    "\n",
    "# 集合添加元素\n",
    "test_set.add(\"c\")\n",
    "test_set.add(\"c\")\n",
    "print(test_set)\n",
    "\n",
    "a_list = [1, 2, 3, 2, 1, 2, 3, 4]\n",
    "b_list = list(set(a_list))\n",
    "print(b_list)"
   ]
  },
  {
   "cell_type": "markdown",
   "metadata": {},
   "source": [
    "# 用户输入与while循环"
   ]
  },
  {
   "cell_type": "code",
   "execution_count": 2,
   "metadata": {},
   "outputs": [
    {
     "name": "stdout",
     "output_type": "stream",
     "text": [
      "name is alice\n",
      "i=9\n",
      "i=8\n",
      "i=7\n",
      "i=6\n",
      "i=5\n"
     ]
    }
   ],
   "source": [
    "# name = input(\"请输入name\")\n",
    "name = \"alice\"\n",
    "print(f\"name is {name}\")\n",
    "\n",
    "# while 循环\n",
    "i = 10\n",
    "while True:\n",
    "    if i == 10:\n",
    "        i -= 1\n",
    "        continue\n",
    "    print(f\"{i=}\")          # 相当于print(f\"i={i}\")\n",
    "    i -= 1                  # 相当于 i = i - 1   i += 1\n",
    "    if i < 5: break         # 跳出循环，而不是跳出if\n",
    "     "
   ]
  },
  {
   "cell_type": "markdown",
   "metadata": {},
   "source": [
    "# 函数"
   ]
  },
  {
   "cell_type": "code",
   "execution_count": 6,
   "metadata": {},
   "outputs": [
    {
     "data": {
      "text/plain": [
       "9"
      ]
     },
     "execution_count": 6,
     "metadata": {},
     "output_type": "execute_result"
    }
   ],
   "source": [
    "# int main(){\n",
    "\n",
    "# }\n",
    "\n",
    "# 定义函数\n",
    "def main(x, y):\n",
    "    res = x ** y\n",
    "    return res\n",
    "main(name=\"alice\")\n"
   ]
  },
  {
   "cell_type": "code",
   "execution_count": 12,
   "metadata": {},
   "outputs": [
    {
     "data": {
      "text/plain": [
       "16"
      ]
     },
     "execution_count": 12,
     "metadata": {},
     "output_type": "execute_result"
    }
   ],
   "source": [
    "import math\n",
    "from typing import List, Dict\n",
    "\n",
    "# 类型指示器\n",
    "def main(x: List[str], y: Dict[str, int]) -> float:\n",
    "    res: str = x ** y\n",
    "    return res\n",
    "\n",
    "main(x=4, y=2)"
   ]
  },
  {
   "cell_type": "code",
   "execution_count": 16,
   "metadata": {},
   "outputs": [
    {
     "name": "stdout",
     "output_type": "stream",
     "text": [
      "9\n"
     ]
    }
   ],
   "source": [
    "# 默认值\n",
    "def main(x: int, y: int=2) -> float:\n",
    "    res: int = x ** y\n",
    "    return res\n",
    "\n",
    "res1 = main(3)\n",
    "print(res1)"
   ]
  },
  {
   "cell_type": "markdown",
   "metadata": {},
   "source": []
  },
  {
   "cell_type": "code",
   "execution_count": 19,
   "metadata": {},
   "outputs": [
    {
     "name": "stdout",
     "output_type": "stream",
     "text": [
      "()\n",
      "<class 'tuple'>\n",
      "{'k1': 3, 'k2': 4}\n",
      "<class 'dict'>\n"
     ]
    }
   ],
   "source": [
    "# 命名形参和未命名形参\n",
    "def main(*args, **kwargs):\n",
    "    print(args)\n",
    "    print(type(args))\n",
    "    print(kwargs)\n",
    "    print(type(kwargs))\n",
    "\n",
    "main(k1=3, k2=4)\n"
   ]
  },
  {
   "cell_type": "code",
   "execution_count": 25,
   "metadata": {},
   "outputs": [],
   "source": [
    "# 命名形参和未命名形参\n",
    "def main(a: int, /, b: int, *, c: int):\n",
    "    pass\n",
    "\n",
    "main(1, 2, c=3)"
   ]
  },
  {
   "cell_type": "markdown",
   "metadata": {},
   "source": [
    "# 类"
   ]
  },
  {
   "cell_type": "code",
   "execution_count": 4,
   "metadata": {},
   "outputs": [
    {
     "name": "stdout",
     "output_type": "stream",
     "text": [
      "my name is alice\n"
     ]
    }
   ],
   "source": [
    "# 类的命名方式，首字母大写，驼峰命名\n",
    "\n",
    "class Human(object):    \n",
    "    head: str       # 类变量    类变量是所有实例共享的\n",
    "    def __init__(self, name: str, age: int):\n",
    "        self.name = name    # 实例变量\n",
    "        self.age = age\n",
    "        \n",
    "    def run(self):        # 实例方法\n",
    "        print(f\"{self.name} is running\")\n",
    "        \n",
    "    def say(self):        # 实例方法\n",
    "        print(f\"my name is {self.name}\")\n",
    "\n",
    "human = Human(\"alice\", 18)      # 实例化\n",
    "human.say()                    # 调用实例方法"
   ]
  },
  {
   "cell_type": "code",
   "execution_count": 10,
   "metadata": {},
   "outputs": [
    {
     "name": "stdout",
     "output_type": "stream",
     "text": [
      "my name is alice, my score is 100\n",
      "alice is running\n"
     ]
    }
   ],
   "source": [
    "# 类的继承\n",
    "class Student(Human):\n",
    "    def __init__(self, name: str, age: int, score: int):\n",
    "        super(Student, self).__init__(name, age)        # 调用父类的构造函数，你可以将super理解为父类的对象\n",
    "        self.score = score\n",
    "        \n",
    "    def say(self):        # 实例方法\n",
    "        print(f\"my name is {self.name}, my score is {self.score}\")\n",
    "        \n",
    "\n",
    "# 使用重写方法\n",
    "student = Student(\"alice\", 18, 100)\n",
    "student.say()\n",
    "\n",
    "# 使用父类方法\n",
    "student.run()\n"
   ]
  },
  {
   "cell_type": "code",
   "execution_count": 11,
   "metadata": {},
   "outputs": [
    {
     "name": "stdout",
     "output_type": "stream",
     "text": [
      "Jack\n"
     ]
    }
   ],
   "source": [
    "# 类中的魔术方法    __getitem__()\n",
    "class School:\n",
    "    def __init__(self, student_names):\n",
    "        self.student_names = student_names\n",
    "        \n",
    "    def __getitem__(self, index):           # 这个魔术方法可以使对象通过索引的方式引用实例变量\n",
    "        return self.student_names[index]\n",
    "\n",
    "\n",
    "student_names = [\"Alice\", \"Jack\", \"Mike\", \"Lisa\"]\n",
    "\n",
    "school = School(student_names)\n",
    "print(school[1])"
   ]
  },
  {
   "cell_type": "markdown",
   "metadata": {},
   "source": [
    "# 异常处理"
   ]
  },
  {
   "cell_type": "code",
   "execution_count": 13,
   "metadata": {},
   "outputs": [
    {
     "name": "stdout",
     "output_type": "stream",
     "text": [
      "转换失败！转换目标为abc\n"
     ]
    }
   ],
   "source": [
    "# python异常处理\n",
    "\n",
    "s_char = \"abc\"\n",
    "\n",
    "try:\n",
    "    int(s_char)\n",
    "    print(\"转换成功\")\n",
    "except:\n",
    "    print(f\"转换失败！转换目标为{s_char}\")\n",
    "    "
   ]
  },
  {
   "cell_type": "code",
   "execution_count": 14,
   "metadata": {},
   "outputs": [
    {
     "name": "stdout",
     "output_type": "stream",
     "text": [
      "转换成功，最终得到123\n"
     ]
    }
   ],
   "source": [
    "# python异常处理\n",
    "\n",
    "s_char = \"123\"\n",
    "\n",
    "try:\n",
    "    s_int = int(s_char)\n",
    "    print(f\"转换成功，最终得到{s_int}\")\n",
    "except:\n",
    "    print(f\"转换失败！转换目标为{s_char}\")\n",
    "    "
   ]
  },
  {
   "cell_type": "code",
   "execution_count": 16,
   "metadata": {},
   "outputs": [
    {
     "name": "stdout",
     "output_type": "stream",
     "text": [
      "转换失败！转换目标为abc\n",
      "执行完毕！\n"
     ]
    }
   ],
   "source": [
    "# finally 可以在不论有没有捕获异常的时候，都执行\n",
    "s_char = \"abc\"\n",
    "\n",
    "try:\n",
    "    s_int = int(s_char)\n",
    "    print(f\"转换成功，最终得到{s_int}\")\n",
    "except:\n",
    "    print(f\"转换失败！转换目标为{s_char}\")\n",
    "finally:\n",
    "    print(f\"执行完毕！\")\n"
   ]
  },
  {
   "cell_type": "code",
   "execution_count": 17,
   "metadata": {},
   "outputs": [
    {
     "name": "stdout",
     "output_type": "stream",
     "text": [
      "转换成功，最终得到123\n",
      "执行完毕！\n"
     ]
    }
   ],
   "source": [
    "# finally 可以在不论有没有捕获异常的时候，都执行\n",
    "s_char = \"123\"\n",
    "\n",
    "try:\n",
    "    s_int = int(s_char)\n",
    "    print(f\"转换成功，最终得到{s_int}\")\n",
    "except:\n",
    "    print(f\"转换失败！转换目标为{s_char}\")\n",
    "finally:\n",
    "    print(f\"执行完毕！\")"
   ]
  },
  {
   "cell_type": "code",
   "execution_count": 19,
   "metadata": {},
   "outputs": [
    {
     "name": "stdout",
     "output_type": "stream",
     "text": [
      "0\n",
      "1\n",
      "2\n",
      "3\n",
      "4\n"
     ]
    },
    {
     "ename": "Exception",
     "evalue": "i 怎么能等于5 呢",
     "output_type": "error",
     "traceback": [
      "\u001b[1;31m---------------------------------------------------------------------------\u001b[0m",
      "\u001b[1;31mException\u001b[0m                                 Traceback (most recent call last)",
      "Cell \u001b[1;32mIn[19], line 8\u001b[0m\n\u001b[0;32m      6\u001b[0m \u001b[38;5;28;01mfor\u001b[39;00m i \u001b[38;5;129;01min\u001b[39;00m \u001b[38;5;28mrange\u001b[39m(\u001b[38;5;241m10\u001b[39m):\n\u001b[0;32m      7\u001b[0m     \u001b[38;5;28;01mif\u001b[39;00m i \u001b[38;5;241m==\u001b[39m \u001b[38;5;241m5\u001b[39m:      \u001b[38;5;66;03m# 如果i等于5时， 抛出异常\u001b[39;00m\n\u001b[1;32m----> 8\u001b[0m         \u001b[38;5;28;01mraise\u001b[39;00m \u001b[38;5;167;01mException\u001b[39;00m(\u001b[38;5;124m\"\u001b[39m\u001b[38;5;124mi 怎么能等于5 呢\u001b[39m\u001b[38;5;124m\"\u001b[39m)\n\u001b[0;32m      9\u001b[0m     \u001b[38;5;28mprint\u001b[39m(i)\n",
      "\u001b[1;31mException\u001b[0m: i 怎么能等于5 呢"
     ]
    }
   ],
   "source": [
    "# 手动抛出异常\n",
    "\n",
    "# 使用raise 关键字，可以手动抛出一个异常\n",
    "# 我们打印一组数，当数字等于5的时候，抛出一个异常\n",
    "\n",
    "for i in range(10):\n",
    "    if i == 5:      # 如果i等于5时， 抛出异常\n",
    "        raise Exception(\"i 怎么能等于5 呢\")\n",
    "    print(i)\n",
    "\n",
    "    "
   ]
  },
  {
   "cell_type": "code",
   "execution_count": 20,
   "metadata": {},
   "outputs": [
    {
     "name": "stdout",
     "output_type": "stream",
     "text": [
      "0\n",
      "1\n",
      "2\n",
      "3\n",
      "4\n",
      "检测到i=5，这样是不对的\n",
      "执行完毕\n"
     ]
    }
   ],
   "source": [
    "# 捕获手动抛出的异常\n",
    "\n",
    "try:\n",
    "    for i in range(10):\n",
    "        if i == 5:      # 如果i等于5时， 抛出异常\n",
    "            raise Exception(\"i 怎么能等于5 呢\")\n",
    "        print(i)\n",
    "except Exception as e:\n",
    "    print(f\"检测到i=5，这样是不对的\")\n",
    "finally:\n",
    "    print(\"执行完毕\")"
   ]
  },
  {
   "cell_type": "code",
   "execution_count": 21,
   "metadata": {},
   "outputs": [
    {
     "name": "stdout",
     "output_type": "stream",
     "text": [
      "0\n",
      "1\n",
      "2\n",
      "3\n",
      "4\n",
      "检测到i=5，这样是不对的，跳过了\n",
      "6\n",
      "7\n",
      "8\n",
      "9\n"
     ]
    }
   ],
   "source": [
    "# i等于5时抛出异常，但直接跳过去，我们可以用try包住for循环里面的代码\n",
    "\n",
    "for i in range(10):\n",
    "    try:\n",
    "        if i == 5:      # 如果i等于5时， 抛出异常\n",
    "            raise Exception(\"i 怎么能等于5 呢\")\n",
    "    except Exception as e:\n",
    "        print(f\"检测到i=5，这样是不对的，跳过了\")\n",
    "        continue    # 跳过这个异常，继续执行for循环\n",
    "    print(i)\n"
   ]
  },
  {
   "cell_type": "code",
   "execution_count": 26,
   "metadata": {},
   "outputs": [
    {
     "ename": "Exception",
     "evalue": "没匹配上！",
     "output_type": "error",
     "traceback": [
      "\u001b[1;31m---------------------------------------------------------------------------\u001b[0m",
      "\u001b[1;31mException\u001b[0m                                 Traceback (most recent call last)",
      "Cell \u001b[1;32mIn[26], line 8\u001b[0m\n\u001b[0;32m      6\u001b[0m     \u001b[38;5;28;01mpass\u001b[39;00m\n\u001b[0;32m      7\u001b[0m \u001b[38;5;28;01melse\u001b[39;00m:\n\u001b[1;32m----> 8\u001b[0m     \u001b[38;5;28;01mraise\u001b[39;00m \u001b[38;5;167;01mException\u001b[39;00m(\u001b[38;5;124m\"\u001b[39m\u001b[38;5;124m没匹配上！\u001b[39m\u001b[38;5;124m\"\u001b[39m)\n",
      "\u001b[1;31mException\u001b[0m: 没匹配上！"
     ]
    }
   ],
   "source": [
    "# assert断言关键字\n",
    "k_char = \"kk12345\"\n",
    "\n",
    "# 没有assert断言\n",
    "if k_char == \"abcde\":\n",
    "    print(\"匹配上了\")\n",
    "else:\n",
    "    raise Exception(\"没匹配上！\")"
   ]
  },
  {
   "cell_type": "code",
   "execution_count": 25,
   "metadata": {},
   "outputs": [
    {
     "ename": "AssertionError",
     "evalue": "没匹配上",
     "output_type": "error",
     "traceback": [
      "\u001b[1;31m---------------------------------------------------------------------------\u001b[0m",
      "\u001b[1;31mAssertionError\u001b[0m                            Traceback (most recent call last)",
      "Cell \u001b[1;32mIn[25], line 2\u001b[0m\n\u001b[0;32m      1\u001b[0m \u001b[38;5;66;03m# assert断言， 如果assert后面的判断语句不为True，assert会抛出一个断言错误\u001b[39;00m\n\u001b[1;32m----> 2\u001b[0m \u001b[38;5;28;01massert\u001b[39;00m k_char \u001b[38;5;241m==\u001b[39m \u001b[38;5;124m\"\u001b[39m\u001b[38;5;124mabcde\u001b[39m\u001b[38;5;124m\"\u001b[39m, \u001b[38;5;124m\"\u001b[39m\u001b[38;5;124m没匹配上\u001b[39m\u001b[38;5;124m\"\u001b[39m\n",
      "\u001b[1;31mAssertionError\u001b[0m: 没匹配上"
     ]
    }
   ],
   "source": [
    "# assert断言， 如果assert后面的判断语句不为True，assert会抛出一个断言错误\n",
    "assert k_char == \"abcde\", \"没匹配上\""
   ]
  },
  {
   "cell_type": "code",
   "execution_count": 28,
   "metadata": {},
   "outputs": [
    {
     "name": "stdout",
     "output_type": "stream",
     "text": [
      "没匹配上，无妨，直接跳过去就好了\n",
      "执行完毕\n"
     ]
    }
   ],
   "source": [
    "# 使用try exception处理assert错误\n",
    "\n",
    "try:\n",
    "    assert k_char == \"abcde\", \"没匹配上\"\n",
    "except Exception as e:\n",
    "    print(\"没匹配上，无妨，直接跳过去就好了\")\n",
    "finally:\n",
    "    print(f\"执行完毕\")"
   ]
  }
 ],
 "metadata": {
  "kernelspec": {
   "display_name": "base",
   "language": "python",
   "name": "python3"
  },
  "language_info": {
   "codemirror_mode": {
    "name": "ipython",
    "version": 3
   },
   "file_extension": ".py",
   "mimetype": "text/x-python",
   "name": "python",
   "nbconvert_exporter": "python",
   "pygments_lexer": "ipython3",
   "version": "3.10.9"
  }
 },
 "nbformat": 4,
 "nbformat_minor": 2
}
