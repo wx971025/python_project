{
 "cells": [
  {
   "cell_type": "markdown",
   "id": "09166fd1",
   "metadata": {},
   "source": [
    "#### 写出导入pandas的语句，并且给pandas别名为pd。"
   ]
  },
  {
   "cell_type": "code",
   "execution_count": null,
   "id": "154a8dd6",
   "metadata": {},
   "outputs": [],
   "source": []
  },
  {
   "cell_type": "markdown",
   "id": "0eebe1e2",
   "metadata": {},
   "source": [
    "#### 创建一个叫s1的Series，里面包含元素-1.2、3.7、2.5、-8.2、6.3。创建后进行输出。"
   ]
  },
  {
   "cell_type": "code",
   "execution_count": null,
   "id": "91582f72",
   "metadata": {},
   "outputs": [],
   "source": []
  },
  {
   "cell_type": "markdown",
   "id": "d1253074",
   "metadata": {},
   "source": [
    "#### 打印s1的所有索引以及所有元素值。"
   ]
  },
  {
   "cell_type": "code",
   "execution_count": null,
   "id": "43bcb273",
   "metadata": {},
   "outputs": [],
   "source": []
  },
  {
   "cell_type": "markdown",
   "id": "8adf427e",
   "metadata": {},
   "source": [
    "#### 创建一个叫s2的Series，里面包含元素1、2、3、4、5，并且对应索引5、4、3、2、1。创建后进行输出。"
   ]
  },
  {
   "cell_type": "code",
   "execution_count": null,
   "id": "84b9b746",
   "metadata": {},
   "outputs": [],
   "source": []
  },
  {
   "cell_type": "markdown",
   "id": "3dd2121d",
   "metadata": {},
   "source": [
    "#### 输出s2里按位置顺序排在第2个的元素。"
   ]
  },
  {
   "cell_type": "code",
   "execution_count": null,
   "id": "e6bbcfde",
   "metadata": {},
   "outputs": [],
   "source": []
  },
  {
   "cell_type": "markdown",
   "id": "c9ee706c",
   "metadata": {},
   "source": [
    "#### 输出s2里按标签对应从5到3（包括3）范围内的元素。"
   ]
  },
  {
   "cell_type": "code",
   "execution_count": null,
   "id": "4321099a",
   "metadata": {},
   "outputs": [],
   "source": []
  },
  {
   "cell_type": "markdown",
   "id": "7a78f670",
   "metadata": {},
   "source": [
    "#### 通过一个字典来创建Series s3。字典的键为：小李、小陈、小张、小曾、小邓，值为82、93、91、78、68。创建后进行输出。"
   ]
  },
  {
   "cell_type": "code",
   "execution_count": null,
   "id": "094607a0",
   "metadata": {},
   "outputs": [],
   "source": []
  },
  {
   "cell_type": "markdown",
   "id": "fdb7f56f",
   "metadata": {},
   "source": [
    "#### 把s3里小张标签对应的值改为95，再输出s3。"
   ]
  },
  {
   "cell_type": "code",
   "execution_count": null,
   "id": "c4943339",
   "metadata": {},
   "outputs": [],
   "source": []
  },
  {
   "cell_type": "markdown",
   "id": "56662154",
   "metadata": {},
   "source": [
    "#### 输出s3里所有值大于80且小于90的元素。"
   ]
  },
  {
   "cell_type": "code",
   "execution_count": null,
   "id": "930dc23a",
   "metadata": {},
   "outputs": [],
   "source": []
  }
 ],
 "metadata": {
  "kernelspec": {
   "display_name": "Python 3",
   "language": "python",
   "name": "python3"
  },
  "language_info": {
   "codemirror_mode": {
    "name": "ipython",
    "version": 3
   },
   "file_extension": ".py",
   "mimetype": "text/x-python",
   "name": "python",
   "nbconvert_exporter": "python",
   "pygments_lexer": "ipython3",
   "version": "3.8.1"
  }
 },
 "nbformat": 4,
 "nbformat_minor": 5
}
