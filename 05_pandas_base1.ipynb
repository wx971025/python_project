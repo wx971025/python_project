{
 "cells": [
  {
   "cell_type": "code",
   "execution_count": 3,
   "metadata": {},
   "outputs": [
    {
     "name": "stdout",
     "output_type": "stream",
     "text": [
      "Looking in indexes: https://pypi.tuna.tsinghua.edu.cn/simple\n",
      "Requirement already satisfied: pandas in ./anaconda3/lib/python3.10/site-packages (1.5.3)\n",
      "Requirement already satisfied: python-dateutil>=2.8.1 in ./anaconda3/lib/python3.10/site-packages (from pandas) (2.8.2)\n",
      "Requirement already satisfied: pytz>=2020.1 in ./anaconda3/lib/python3.10/site-packages (from pandas) (2022.7)\n",
      "Requirement already satisfied: numpy>=1.21.0 in ./anaconda3/lib/python3.10/site-packages (from pandas) (1.23.5)\n",
      "Requirement already satisfied: six>=1.5 in ./anaconda3/lib/python3.10/site-packages (from python-dateutil>=2.8.1->pandas) (1.16.0)\n"
     ]
    }
   ],
   "source": [
    "!pip install pandas\n",
    "import pandas as pd"
   ]
  },
  {
   "cell_type": "code",
   "execution_count": 4,
   "metadata": {},
   "outputs": [
    {
     "name": "stdout",
     "output_type": "stream",
     "text": [
      "0     5\n",
      "1    17\n",
      "2     3\n",
      "3    26\n",
      "4    31\n",
      "dtype: int64\n"
     ]
    }
   ],
   "source": [
    "# pandas的基本结构--Series\n",
    "s1 = pd.Series([5, 17, 3, 26, 31])\n",
    "print(s1)"
   ]
  },
  {
   "cell_type": "code",
   "execution_count": 5,
   "metadata": {},
   "outputs": [
    {
     "name": "stdout",
     "output_type": "stream",
     "text": [
      "[ 5 17  3 26 31]\n",
      "<class 'numpy.ndarray'>\n"
     ]
    }
   ],
   "source": [
    "# 获取Series所有值\n",
    "print(s1.values)\n",
    "print(type(s1.values))"
   ]
  },
  {
   "cell_type": "code",
   "execution_count": 6,
   "metadata": {},
   "outputs": [
    {
     "name": "stdout",
     "output_type": "stream",
     "text": [
      "RangeIndex(start=0, stop=5, step=1)\n",
      "<class 'pandas.core.indexes.range.RangeIndex'>\n"
     ]
    }
   ],
   "source": [
    "# 获取Series所有索引\n",
    "print(s1.index)\n",
    "print(type(s1.index))"
   ]
  },
  {
   "cell_type": "code",
   "execution_count": 7,
   "metadata": {},
   "outputs": [
    {
     "name": "stdout",
     "output_type": "stream",
     "text": [
      "1    17\n",
      "2     3\n",
      "dtype: int64\n"
     ]
    }
   ],
   "source": [
    "# Series切片\n",
    "print(s1[1:3])"
   ]
  },
  {
   "cell_type": "code",
   "execution_count": 8,
   "metadata": {},
   "outputs": [
    {
     "name": "stdout",
     "output_type": "stream",
     "text": [
      "a     5\n",
      "b    17\n",
      "c     3\n",
      "d    26\n",
      "e    31\n",
      "dtype: int64\n"
     ]
    }
   ],
   "source": [
    "# Series指定索引\n",
    "s2 = pd.Series([5, 17, 3, 26, 31], index=[\"a\", \"b\", \"c\", \"d\", \"e\"])\n",
    "print(s2)"
   ]
  },
  {
   "cell_type": "code",
   "execution_count": 9,
   "metadata": {},
   "outputs": [
    {
     "name": "stdout",
     "output_type": "stream",
     "text": [
      "5\n",
      "5\n"
     ]
    }
   ],
   "source": [
    "# 检索Series\n",
    "print(s2[\"a\"])\n",
    "print(s2[0])"
   ]
  },
  {
   "cell_type": "code",
   "execution_count": 10,
   "metadata": {},
   "outputs": [
    {
     "name": "stdout",
     "output_type": "stream",
     "text": [
      "a     5\n",
      "b    17\n",
      "c     3\n",
      "dtype: int64\n"
     ]
    }
   ],
   "source": [
    "# Series索引切片\n",
    "print(s2[\"a\": \"c\"])"
   ]
  },
  {
   "cell_type": "code",
   "execution_count": 11,
   "metadata": {},
   "outputs": [
    {
     "name": "stdout",
     "output_type": "stream",
     "text": [
      "5\n",
      "--------------------\n",
      "4     3\n",
      "5    26\n",
      "dtype: int64\n"
     ]
    }
   ],
   "source": [
    "# 标签索引和位置索引模糊\n",
    "s3 = pd.Series([5, 17, 3, 26, 31], index=[2, 3, 4, 5, 6])\n",
    "print(s3[2])        # 使用了标签索引\n",
    "print(\"-\"*20)\n",
    "print(s3[2:4])      # 使用了位置索引"
   ]
  },
  {
   "cell_type": "code",
   "execution_count": 12,
   "metadata": {},
   "outputs": [
    {
     "name": "stdout",
     "output_type": "stream",
     "text": [
      "2     5\n",
      "3    17\n",
      "4     3\n",
      "5    26\n",
      "6    31\n",
      "dtype: int64\n",
      "--------------------\n",
      "2     5\n",
      "3    17\n",
      "4     3\n",
      "dtype: int64\n",
      "--------------------\n",
      "4     3\n",
      "5    26\n",
      "dtype: int64\n"
     ]
    }
   ],
   "source": [
    "print(s3)\n",
    "print(\"-\"*20)\n",
    "print(s3.loc[2: 4])     # 使用标签索引  前闭后闭\n",
    "print(\"-\"*20)\n",
    "print(s3.iloc[2: 4])    # 使用位置索引  前闭后开"
   ]
  },
  {
   "cell_type": "code",
   "execution_count": 13,
   "metadata": {},
   "outputs": [
    {
     "name": "stdout",
     "output_type": "stream",
     "text": [
      "青菜     4.1\n",
      "白萝卜    2.2\n",
      "西红柿    5.3\n",
      "土豆     3.7\n",
      "黄瓜     6.8\n",
      "dtype: float64\n"
     ]
    }
   ],
   "source": [
    "s4 = pd.Series(\n",
    "    [4.1, 2.2, 5.3, 3.7, 6.8], \n",
    "    index=[\"青菜\", \"白萝卜\", \"西红柿\", \"土豆\", \"黄瓜\"]\n",
    ")\n",
    "print(s4)"
   ]
  },
  {
   "cell_type": "code",
   "execution_count": 14,
   "metadata": {},
   "outputs": [
    {
     "name": "stdout",
     "output_type": "stream",
     "text": [
      "青菜     4.1\n",
      "白萝卜    2.2\n",
      "西红柿    5.3\n",
      "土豆     3.7\n",
      "黄瓜     6.8\n",
      "dtype: float64\n"
     ]
    }
   ],
   "source": [
    "# 字典构建Series\n",
    "s4 = pd.Series(\n",
    "    {\"青菜\": 4.1, \"白萝卜\": 2.2, \"西红柿\": 5.3, \"土豆\": 3.7, \"黄瓜\": 6.8}\n",
    ")\n",
    "print(s4)"
   ]
  },
  {
   "cell_type": "code",
   "execution_count": 15,
   "metadata": {},
   "outputs": [
    {
     "data": {
      "text/plain": [
       "True"
      ]
     },
     "execution_count": 15,
     "metadata": {},
     "output_type": "execute_result"
    }
   ],
   "source": [
    "# 成员运算符判断是否为成员\n",
    "\"青菜\" in s4"
   ]
  },
  {
   "cell_type": "code",
   "execution_count": 18,
   "metadata": {},
   "outputs": [
    {
     "data": {
      "text/plain": [
       "青菜     False\n",
       "白萝卜    False\n",
       "西红柿     True\n",
       "土豆     False\n",
       "黄瓜      True\n",
       "dtype: bool"
      ]
     },
     "execution_count": 18,
     "metadata": {},
     "output_type": "execute_result"
    }
   ],
   "source": [
    "s4 > 5"
   ]
  },
  {
   "cell_type": "code",
   "execution_count": 16,
   "metadata": {},
   "outputs": [
    {
     "data": {
      "text/plain": [
       "西红柿    5.3\n",
       "黄瓜     6.8\n",
       "dtype: float64"
      ]
     },
     "execution_count": 16,
     "metadata": {},
     "output_type": "execute_result"
    }
   ],
   "source": [
    "# 筛选\n",
    "s4[s4 > 5]"
   ]
  },
  {
   "cell_type": "code",
   "execution_count": 17,
   "metadata": {},
   "outputs": [
    {
     "data": {
      "text/plain": [
       "白萝卜    2.2\n",
       "西红柿    5.3\n",
       "黄瓜     6.8\n",
       "dtype: float64"
      ]
     },
     "execution_count": 17,
     "metadata": {},
     "output_type": "execute_result"
    }
   ],
   "source": [
    "# 多条件筛选\n",
    "s4[(s4 > 5) | (s4 < 3)]"
   ]
  }
 ],
 "metadata": {
  "kernelspec": {
   "display_name": "base",
   "language": "python",
   "name": "python3"
  },
  "language_info": {
   "codemirror_mode": {
    "name": "ipython",
    "version": 3
   },
   "file_extension": ".py",
   "mimetype": "text/x-python",
   "name": "python",
   "nbconvert_exporter": "python",
   "pygments_lexer": "ipython3",
   "version": "3.10.9"
  }
 },
 "nbformat": 4,
 "nbformat_minor": 2
}
