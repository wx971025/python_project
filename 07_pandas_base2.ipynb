{
 "cells": [
  {
   "cell_type": "code",
   "execution_count": 1,
   "metadata": {},
   "outputs": [],
   "source": [
    "import pandas as pd"
   ]
  },
  {
   "cell_type": "code",
   "execution_count": 4,
   "metadata": {},
   "outputs": [
    {
     "name": "stdout",
     "output_type": "stream",
     "text": [
      "1    1\n",
      "3    4\n",
      "5    2\n",
      "7    3\n",
      "9    5\n",
      "dtype: int64\n",
      "--------------------\n",
      "1     8\n",
      "2     1\n",
      "3     7\n",
      "5     3\n",
      "10    9\n",
      "dtype: int64\n"
     ]
    }
   ],
   "source": [
    "s1 = pd.Series([1, 4, 2, 3, 5], index=[1, 3, 5, 7, 9])\n",
    "s2 = pd.Series([8, 1, 7, 3, 9], index=[1, 2, 3, 5, 10])\n",
    "print(s1)\n",
    "print(\"-\"*20)\n",
    "print(s2)"
   ]
  },
  {
   "cell_type": "markdown",
   "metadata": {},
   "source": [
    "![](./pic/pandas/series_add.png)"
   ]
  },
  {
   "cell_type": "code",
   "execution_count": 5,
   "metadata": {},
   "outputs": [
    {
     "name": "stdout",
     "output_type": "stream",
     "text": [
      "1      9.0\n",
      "2      1.0\n",
      "3     11.0\n",
      "5      5.0\n",
      "7      3.0\n",
      "9      5.0\n",
      "10     9.0\n",
      "dtype: float64\n"
     ]
    }
   ],
   "source": [
    "s3 = s1.add(s2, fill_value=0)\n",
    "print(s3)"
   ]
  },
  {
   "cell_type": "markdown",
   "metadata": {},
   "source": [
    "![](./pic/pandas/series_add2.png)"
   ]
  },
  {
   "cell_type": "code",
   "execution_count": 6,
   "metadata": {},
   "outputs": [
    {
     "name": "stdout",
     "output_type": "stream",
     "text": [
      "1    -7.0\n",
      "2    -1.0\n",
      "3    -3.0\n",
      "5    -1.0\n",
      "7     3.0\n",
      "9     5.0\n",
      "10   -9.0\n",
      "dtype: float64\n"
     ]
    }
   ],
   "source": [
    "s3 = s1.sub(s2, fill_value=0)\n",
    "print(s3)"
   ]
  },
  {
   "cell_type": "code",
   "execution_count": 7,
   "metadata": {},
   "outputs": [
    {
     "name": "stdout",
     "output_type": "stream",
     "text": [
      "1      8.0\n",
      "2      1.0\n",
      "3     28.0\n",
      "5      6.0\n",
      "7      3.0\n",
      "9      5.0\n",
      "10     9.0\n",
      "dtype: float64\n"
     ]
    }
   ],
   "source": [
    "s3 = s1.mul(s2, fill_value=1)\n",
    "print(s3)"
   ]
  },
  {
   "cell_type": "code",
   "execution_count": 8,
   "metadata": {},
   "outputs": [
    {
     "name": "stdout",
     "output_type": "stream",
     "text": [
      "1     0.125000\n",
      "2     1.000000\n",
      "3     0.571429\n",
      "5     0.666667\n",
      "7     3.000000\n",
      "9     5.000000\n",
      "10    0.111111\n",
      "dtype: float64\n"
     ]
    }
   ],
   "source": [
    "s3 = s1.div(s2, fill_value=1)\n",
    "print(s3)"
   ]
  },
  {
   "cell_type": "code",
   "execution_count": 9,
   "metadata": {},
   "outputs": [
    {
     "name": "stdout",
     "output_type": "stream",
     "text": [
      "5\n",
      "1\n",
      "15\n",
      "3.0\n"
     ]
    }
   ],
   "source": [
    "print(s1.max())\n",
    "print(s1.min())\n",
    "print(s1.sum())\n",
    "print(s1.mean())"
   ]
  },
  {
   "cell_type": "code",
   "execution_count": 10,
   "metadata": {},
   "outputs": [
    {
     "data": {
      "text/plain": [
       "count    5.000000\n",
       "mean     3.000000\n",
       "std      1.581139\n",
       "min      1.000000\n",
       "25%      2.000000\n",
       "50%      3.000000\n",
       "75%      4.000000\n",
       "max      5.000000\n",
       "dtype: float64"
      ]
     },
     "execution_count": 10,
     "metadata": {},
     "output_type": "execute_result"
    }
   ],
   "source": [
    "# Series的详细信息\n",
    "s1.describe()"
   ]
  },
  {
   "cell_type": "code",
   "execution_count": 11,
   "metadata": {},
   "outputs": [
    {
     "name": "stdout",
     "output_type": "stream",
     "text": [
      "小明    92\n",
      "小红    67\n",
      "小杰    70\n",
      "小丽    88\n",
      "小华    76\n",
      "dtype: int64\n"
     ]
    }
   ],
   "source": [
    "scores = pd.Series([92, 67, 70, 88, 76], index=[\"小明\", \"小红\", \"小杰\", \"小丽\", \"小华\"])\n",
    "print(scores)"
   ]
  },
  {
   "cell_type": "code",
   "execution_count": 12,
   "metadata": {},
   "outputs": [
    {
     "name": "stdout",
     "output_type": "stream",
     "text": [
      "小明    A\n",
      "小红    D\n",
      "小杰    C\n",
      "小丽    B\n",
      "小华    C\n",
      "dtype: object\n"
     ]
    }
   ],
   "source": [
    "def get_grade_from_score(score):\n",
    "    if score >= 90:\n",
    "        return \"A\"\n",
    "    elif score >= 80:\n",
    "        return \"B\"\n",
    "    elif score >= 70:\n",
    "        return \"C\"\n",
    "    else:\n",
    "        return \"D\"\n",
    "# apply方法，把score中的每一个元素都送入函数中\n",
    "grades = scores.apply(get_grade_from_score)\n",
    "print(grades)"
   ]
  },
  {
   "cell_type": "code",
   "execution_count": 13,
   "metadata": {},
   "outputs": [
    {
     "name": "stdout",
     "output_type": "stream",
     "text": [
      "小明    8464\n",
      "小红    4489\n",
      "小杰    4900\n",
      "小丽    7744\n",
      "小华    5776\n",
      "dtype: int64\n"
     ]
    }
   ],
   "source": [
    "# 使用匿名函数\n",
    "squared_scores = scores.apply(lambda x: x*x)\n",
    "print(squared_scores)"
   ]
  }
 ],
 "metadata": {
  "kernelspec": {
   "display_name": "base",
   "language": "python",
   "name": "python3"
  },
  "language_info": {
   "codemirror_mode": {
    "name": "ipython",
    "version": 3
   },
   "file_extension": ".py",
   "mimetype": "text/x-python",
   "name": "python",
   "nbconvert_exporter": "python",
   "pygments_lexer": "ipython3",
   "version": "3.10.9"
  }
 },
 "nbformat": 4,
 "nbformat_minor": 2
}
