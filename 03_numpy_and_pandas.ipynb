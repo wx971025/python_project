{
 "cells": [
  {
   "cell_type": "markdown",
   "metadata": {},
   "source": [
    "# Numpy(Numerical Python)"
   ]
  },
  {
   "cell_type": "markdown",
   "metadata": {},
   "source": [
    "## 核心数据结构ndarray\n",
    "![ndarray](pic/numpy_and_pandas/ndarray.jpg)"
   ]
  },
  {
   "cell_type": "code",
   "execution_count": 2,
   "metadata": {},
   "outputs": [
    {
     "name": "stdout",
     "output_type": "stream",
     "text": [
      "Looking in indexes: https://mirrors.tuna.tsinghua.edu.cn/pypi/web/simple\n",
      "Requirement already satisfied: numpy in /Users/wangxu/anaconda3/lib/python3.10/site-packages (1.23.5)\n"
     ]
    }
   ],
   "source": [
    "!pip install numpy\n",
    "import numpy as np"
   ]
  },
  {
   "cell_type": "markdown",
   "metadata": {},
   "source": [
    "## 一维数组\n",
    "![](./pic/numpy_and_pandas/one_dim.jpg)"
   ]
  },
  {
   "cell_type": "code",
   "execution_count": 3,
   "metadata": {},
   "outputs": [
    {
     "name": "stdout",
     "output_type": "stream",
     "text": [
      "[ 5 17  3 26 31]\n"
     ]
    },
    {
     "data": {
      "text/plain": [
       "numpy.ndarray"
      ]
     },
     "execution_count": 3,
     "metadata": {},
     "output_type": "execute_result"
    }
   ],
   "source": [
    "arr = np.array([5, 17, 3, 26, 31])\n",
    "print(arr)\n",
    "type(arr)"
   ]
  },
  {
   "cell_type": "markdown",
   "metadata": {},
   "source": [
    "![](./pic/numpy_and_pandas/search_items.jpg)"
   ]
  },
  {
   "cell_type": "code",
   "execution_count": 4,
   "metadata": {},
   "outputs": [
    {
     "name": "stdout",
     "output_type": "stream",
     "text": [
      "5\n",
      "[ 5 17  3]\n",
      "5\n",
      "17\n",
      "3\n",
      "26\n",
      "31\n"
     ]
    }
   ],
   "source": [
    "print(arr[0])\n",
    "print(arr[0:3])\n",
    "for element in arr:\n",
    "    print(element)"
   ]
  },
  {
   "cell_type": "markdown",
   "metadata": {},
   "source": [
    "## numpy数组中的数据类型要保持一致\n",
    "![](./pic/numpy_and_pandas/datatype.jpg)"
   ]
  },
  {
   "cell_type": "code",
   "execution_count": 5,
   "metadata": {},
   "outputs": [
    {
     "name": "stdout",
     "output_type": "stream",
     "text": [
      "[[1 2 3]\n",
      " [4 5 6]]\n"
     ]
    }
   ],
   "source": [
    "arr2 = np.array([[1, 2, 3], [4, 5, 6]])\n",
    "print(arr2)"
   ]
  },
  {
   "cell_type": "code",
   "execution_count": 6,
   "metadata": {},
   "outputs": [
    {
     "name": "stdout",
     "output_type": "stream",
     "text": [
      "1\n",
      "2\n"
     ]
    }
   ],
   "source": [
    "# 返回数组维度数\n",
    "print(arr.ndim)\n",
    "print(arr2.ndim)"
   ]
  },
  {
   "cell_type": "code",
   "execution_count": 7,
   "metadata": {},
   "outputs": [
    {
     "name": "stdout",
     "output_type": "stream",
     "text": [
      "(5,)\n",
      "(2, 3)\n"
     ]
    }
   ],
   "source": [
    "# 返回数组维度\n",
    "print(arr.shape)\n",
    "print(arr2.shape)"
   ]
  },
  {
   "cell_type": "code",
   "execution_count": 8,
   "metadata": {},
   "outputs": [
    {
     "name": "stdout",
     "output_type": "stream",
     "text": [
      "int64\n",
      "int64\n"
     ]
    }
   ],
   "source": [
    "# 返回数组类型\n",
    "print(arr.dtype)\n",
    "print(arr2.dtype)"
   ]
  },
  {
   "cell_type": "code",
   "execution_count": 9,
   "metadata": {},
   "outputs": [
    {
     "name": "stdout",
     "output_type": "stream",
     "text": [
      "[[0. 0. 0.]\n",
      " [0. 0. 0.]]\n"
     ]
    }
   ],
   "source": [
    "# 创建一个全0数组\n",
    "zeros_arr = np.zeros([2, 3])\n",
    "print(zeros_arr)"
   ]
  },
  {
   "cell_type": "code",
   "execution_count": 10,
   "metadata": {},
   "outputs": [
    {
     "name": "stdout",
     "output_type": "stream",
     "text": [
      "[[1. 1. 1.]\n",
      " [1. 1. 1.]]\n"
     ]
    }
   ],
   "source": [
    "# 创建一个全1数组\n",
    "ones_arr = np.ones([2, 3])\n",
    "print(ones_arr)"
   ]
  },
  {
   "cell_type": "code",
   "execution_count": 11,
   "metadata": {},
   "outputs": [
    {
     "name": "stdout",
     "output_type": "stream",
     "text": [
      "[0 2 4 6 8]\n"
     ]
    }
   ],
   "source": [
    "# 返回一个范围数组\n",
    "arange_arr = np.arange(0,   10,    2)\n",
    "                    #  起始  终止   步长\n",
    "print(arange_arr)"
   ]
  },
  {
   "cell_type": "code",
   "execution_count": 12,
   "metadata": {},
   "outputs": [
    {
     "name": "stdout",
     "output_type": "stream",
     "text": [
      "[ 5. 17.  3. 26. 31.  0.  0.]\n"
     ]
    }
   ],
   "source": [
    "# 拼接数组\n",
    "con_arr = np.concatenate([arr, np.zeros([2,])])\n",
    "print(con_arr)"
   ]
  },
  {
   "cell_type": "code",
   "execution_count": 13,
   "metadata": {},
   "outputs": [
    {
     "name": "stdout",
     "output_type": "stream",
     "text": [
      "con_arr_sorted=array([ 0.,  0.,  3.,  5., 17., 26., 31.])\n",
      "con_arr=array([ 5., 17.,  3., 26., 31.,  0.,  0.])\n",
      "con_arr=array([ 0.,  0.,  3.,  5., 17., 26., 31.])\n"
     ]
    }
   ],
   "source": [
    "# 数组排序\n",
    "## 副本排序\n",
    "con_arr_sorted = np.sort(con_arr)\n",
    "print(f\"{con_arr_sorted=}\") # 开辟一块新的内存空间，进行排序，返回新的数组\n",
    "print(f\"{con_arr=}\")        # 本身没有被排序\n",
    "\n",
    "## 原地排序     \n",
    "con_arr.sort()          # 原地排序，不开辟新的内存空间\n",
    "print(f\"{con_arr=}\")"
   ]
  },
  {
   "cell_type": "markdown",
   "metadata": {},
   "source": [
    "![](./pic/numpy_and_pandas/ndarray_index.jpg)"
   ]
  },
  {
   "cell_type": "code",
   "execution_count": 14,
   "metadata": {},
   "outputs": [
    {
     "name": "stdout",
     "output_type": "stream",
     "text": [
      "[ 3  5 17 26 31]\n",
      "3\n",
      "26\n",
      "[ 5 17 26]\n"
     ]
    }
   ],
   "source": [
    "# 索引和切片\n",
    "arr1 = np.array([3, 5, 17, 26, 31])\n",
    "print(arr1)\n",
    "\n",
    "## 索引\n",
    "print(arr1[0])\n",
    "print(arr1[-2])\n",
    "\n",
    "## 切片\n",
    "print(arr1[1:4])"
   ]
  },
  {
   "cell_type": "markdown",
   "metadata": {},
   "source": [
    "![](./pic/numpy_and_pandas/ndarray_add.jpg)"
   ]
  },
  {
   "cell_type": "code",
   "execution_count": 15,
   "metadata": {},
   "outputs": [
    {
     "name": "stdout",
     "output_type": "stream",
     "text": [
      "[ 7  8  9 10 11]\n"
     ]
    }
   ],
   "source": [
    "arr4 = np.array([6, 7, 8, 9, 10])\n",
    "arr5 = np.array([1, 1, 1, 1, 1])\n",
    "print(arr4 + arr5)"
   ]
  },
  {
   "cell_type": "code",
   "execution_count": 16,
   "metadata": {},
   "outputs": [
    {
     "name": "stdout",
     "output_type": "stream",
     "text": [
      "[ 6  7  8  9 10]\n"
     ]
    }
   ],
   "source": [
    "print(arr4 * arr5)      # 哈达玛积 hadamard product"
   ]
  },
  {
   "cell_type": "code",
   "execution_count": 17,
   "metadata": {},
   "outputs": [
    {
     "name": "stdout",
     "output_type": "stream",
     "text": [
      "[18 21 24 27 30]\n"
     ]
    }
   ],
   "source": [
    "print(arr4 * 3)      # 广播"
   ]
  },
  {
   "cell_type": "code",
   "execution_count": null,
   "metadata": {},
   "outputs": [
    {
     "name": "stdout",
     "output_type": "stream",
     "text": [
      "10\n",
      "6\n",
      "40\n",
      "8.0\n"
     ]
    }
   ],
   "source": [
    "print(arr4.max())   # 最大值\n",
    "print(arr4.min())   # 最小值\n",
    "print(arr4.sum())   # 求和\n",
    "print(arr4.mean())  # 求平均\n"
   ]
  },
  {
   "cell_type": "code",
   "execution_count": 20,
   "metadata": {},
   "outputs": [
    {
     "name": "stdout",
     "output_type": "stream",
     "text": [
      "[False  True  True  True  True]\n",
      "[ 7  8  9 10]\n"
     ]
    }
   ],
   "source": [
    "# 找到所有大于6的数字\n",
    "print(arr4>6)\n",
    "print(arr4[arr4>6])"
   ]
  },
  {
   "cell_type": "code",
   "execution_count": 22,
   "metadata": {},
   "outputs": [
    {
     "name": "stdout",
     "output_type": "stream",
     "text": [
      "[False  True  True False False]\n",
      "[7 8]\n"
     ]
    }
   ],
   "source": [
    "print((arr4>6) & (arr4 < 9))\n",
    "print(arr4[(arr4>6) & (arr4 < 9)])"
   ]
  }
 ],
 "metadata": {
  "kernelspec": {
   "display_name": "base",
   "language": "python",
   "name": "python3"
  },
  "language_info": {
   "codemirror_mode": {
    "name": "ipython",
    "version": 3
   },
   "file_extension": ".py",
   "mimetype": "text/x-python",
   "name": "python",
   "nbconvert_exporter": "python",
   "pygments_lexer": "ipython3",
   "version": "3.10.9"
  }
 },
 "nbformat": 4,
 "nbformat_minor": 2
}
