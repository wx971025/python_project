{
 "cells": [
  {
   "cell_type": "markdown",
   "metadata": {},
   "source": [
    "# 一级标题\n",
    "## 二级标题\n",
    "### 三级标题\n",
    "#### 四级标题\n",
    "##### 五级标题\n",
    "###### 六级标题  \n",
    "正文\n",
    "\n",
    "**粗体**  \n",
    "\n",
    "*斜体*  \n",
    "\n",
    "~~删除线~~  \n",
    "\n",
    "换行1  \n",
    "换行2\n",
    "\n",
    "- 无序列表1\n",
    "- 无序列表2\n",
    "\n",
    "1. 有序列表1\n",
    "2. 有序列表2\n",
    "\n",
    "[链接标题-bing搜索](https://www.bing.com)  \n",
    "![玫瑰花-网络](https://bkimg.cdn.bcebos.com/pic/728da9773912b31b734dc7648118367adab4e15e?x-bce-process=image/format,f_auto/quality,Q_70/resize,m_lfit,limit_1,w_536)  \n",
    "![玫瑰花-本地](./pic/markdown/rose.jpg)\n",
    "\n",
    "> 引用段落  \n",
    "\n",
    "```python\n",
    "import numpy as np\n",
    "print(\"Hello World\")\n",
    "```\n",
    "```json\n",
    "{\n",
    "    \"key\": \"value\"\n",
    "}\n",
    "```\n",
    "\n",
    "---  \n",
    "\n",
    "这是一个公式：$a_1^n \\times b_1^n = c_1^n$  \n",
    "这是一个独行公式：$$\\sqrt[3]{\\frac{1}{27}}=\\frac{1}{3}$$"
   ]
  }
 ],
 "metadata": {
  "language_info": {
   "name": "python"
  }
 },
 "nbformat": 4,
 "nbformat_minor": 2
}
